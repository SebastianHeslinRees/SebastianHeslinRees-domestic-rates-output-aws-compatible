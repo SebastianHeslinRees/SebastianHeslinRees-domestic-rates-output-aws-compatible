{
 "cells": [
  {
   "cell_type": "code",
   "execution_count": null,
   "metadata": {},
   "outputs": [],
   "source": [
    "#filter data to 2021"
   ]
  },
  {
   "cell_type": "code",
   "execution_count": 7,
   "metadata": {},
   "outputs": [],
   "source": [
    "import pandas as pd\n",
    "import numpy as np\n",
    "import pyreadr\n",
    "\n"
   ]
  },
  {
   "cell_type": "code",
   "execution_count": 9,
   "metadata": {},
   "outputs": [
    {
     "name": "stdout",
     "output_type": "stream",
     "text": [
      "    gss_code    gss_name     sex    year  age   component  value\n",
      "0  E06000001  Hartlepool  female  2001.0  0.0  population  519.0\n",
      "1  E06000001  Hartlepool  female  2001.0  1.0  population  550.0\n",
      "2  E06000001  Hartlepool  female  2001.0  2.0  population  548.0\n",
      "3  E06000001  Hartlepool  female  2001.0  3.0  population  523.0\n",
      "4  E06000001  Hartlepool  female  2001.0  4.0  population  589.0\n"
     ]
    }
   ],
   "source": [
    "import pyreadr\n",
    "\n",
    "# Define the file path\n",
    "file_path = \"/Users/user1/Documents/get_rate_backseries/input_data/full_modelled_estimates_series_EW(2023_geog).rds\"\n",
    "\n",
    "# Read the .rds file\n",
    "result = pyreadr.read_r(file_path)\n",
    "\n",
    "# Extract the DataFrame (assuming there's only one dataset inside the file)\n",
    "df = list(result.values())[0]\n",
    "\n",
    "# Display the first few rows\n",
    "print(df.head())\n"
   ]
  },
  {
   "cell_type": "code",
   "execution_count": 10,
   "metadata": {},
   "outputs": [
    {
     "name": "stdout",
     "output_type": "stream",
     "text": [
      "          gss_code    gss_name     sex    year  age component  value\n",
      "5266725  E06000001  Hartlepool  female  2021.0  0.0    births  436.0\n",
      "5266735  E06000001  Hartlepool  female  2021.0  1.0    births    0.0\n",
      "5266745  E06000001  Hartlepool  female  2021.0  2.0    births    0.0\n",
      "5266755  E06000001  Hartlepool  female  2021.0  3.0    births    0.0\n",
      "5266765  E06000001  Hartlepool  female  2021.0  4.0    births    0.0\n"
     ]
    }
   ],
   "source": [
    "#filter the data year 2021\n",
    "df_2021 = df[df['year'] == 2021]\n",
    "print(df_2021.head())"
   ]
  },
  {
   "cell_type": "code",
   "execution_count": 11,
   "metadata": {},
   "outputs": [],
   "source": [
    "#filter component = births\n",
    "df_births_2021 = df_2021[df_2021['component'] == 'births']\n",
    "#filter component = population\n",
    "df_population_2021 = df_2021[df_2021['component'] == 'population']\n"
   ]
  },
  {
   "cell_type": "code",
   "execution_count": 13,
   "metadata": {},
   "outputs": [],
   "source": [
    "# Define file paths\n",
    "births_rds_path = \"/Users/user1/Documents/get_rate_backseries/input_data/2021/births_2021.rds\"\n",
    "population_rds_path = \"/Users/user1/Documents/get_rate_backseries/input_data/2021/population_2021.rds\"\n",
    "\n",
    "# Save DataFrames to .rds format\n",
    "pyreadr.write_rds(births_rds_path, df_births_2021)\n",
    "pyreadr.write_rds(population_rds_path, df_population_2021)\n"
   ]
  },
  {
   "cell_type": "code",
   "execution_count": 1,
   "metadata": {},
   "outputs": [
    {
     "name": "stdout",
     "output_type": "stream",
     "text": [
      "     gss_out     gss_in    year     sex  age   value\n",
      "0  E06000003  E06000001  2002.0  female  0.0  2.3626\n",
      "1  E06000004  E06000001  2002.0  female  0.0  1.1813\n",
      "2  E06000005  E06000001  2002.0  female  0.0  1.0617\n",
      "3  E06000009  E06000001  2002.0  female  0.0  0.1647\n",
      "4  E06000010  E06000001  2002.0  female  0.0  0.1887\n"
     ]
    }
   ],
   "source": [
    "import pyreadr\n",
    "\n",
    "# Define the file path\n",
    "file_path = \"/Users/user1/Documents/get_rate_backseries/input_data/2021/origin_destination_2002_2022_(2023_geog).rds\"\n",
    "\n",
    "# Read the .rds file\n",
    "result = pyreadr.read_r(file_path)\n",
    "\n",
    "# Extract the DataFrame (assuming there's only one dataset inside the file)\n",
    "df = list(result.values())[0]\n",
    "\n",
    "# Display the first few rows\n",
    "print(df.head())\n"
   ]
  },
  {
   "cell_type": "code",
   "execution_count": 3,
   "metadata": {},
   "outputs": [
    {
     "name": "stdout",
     "output_type": "stream",
     "text": [
      "Index              132\n",
      "gss_out    10642543540\n",
      "gss_in     10642543540\n",
      "year        1467937040\n",
      "sex         9909096066\n",
      "age         1467937040\n",
      "value       1467937040\n",
      "dtype: int64\n"
     ]
    }
   ],
   "source": [
    "#check memeory usage of the dataframe\n",
    "print(df.memory_usage(deep=True))"
   ]
  },
  {
   "cell_type": "code",
   "execution_count": 4,
   "metadata": {},
   "outputs": [
    {
     "name": "stdout",
     "output_type": "stream",
     "text": [
      "<class 'pandas.core.frame.DataFrame'>\n",
      "RangeIndex: 183492130 entries, 0 to 183492129\n",
      "Data columns (total 6 columns):\n",
      " #   Column   Dtype  \n",
      "---  ------   -----  \n",
      " 0   gss_out  object \n",
      " 1   gss_in   object \n",
      " 2   year     float64\n",
      " 3   sex      object \n",
      " 4   age      float64\n",
      " 5   value    float64\n",
      "dtypes: float64(3), object(3)\n",
      "memory usage: 33.2 GB\n",
      "None\n"
     ]
    }
   ],
   "source": [
    "print(df.info(memory_usage='deep'))\n"
   ]
  },
  {
   "cell_type": "code",
   "execution_count": 5,
   "metadata": {},
   "outputs": [],
   "source": [
    "for col in ['gss_out', 'gss_in', 'sex']:  \n",
    "    df[col] = df[col].astype('category')\n"
   ]
  },
  {
   "cell_type": "code",
   "execution_count": 8,
   "metadata": {},
   "outputs": [],
   "source": [
    "df['year'] = pd.to_numeric(df['year'], downcast='integer')\n",
    "df['age'] = pd.to_numeric(df['age'], downcast='integer')\n"
   ]
  },
  {
   "cell_type": "code",
   "execution_count": 12,
   "metadata": {},
   "outputs": [],
   "source": [
    "df['value'] = pd.to_numeric(df['value'], downcast='float')\n"
   ]
  },
  {
   "cell_type": "code",
   "execution_count": 13,
   "metadata": {},
   "outputs": [
    {
     "name": "stdout",
     "output_type": "stream",
     "text": [
      "Index            132\n",
      "gss_out    367011116\n",
      "gss_in     367011116\n",
      "year       366984260\n",
      "sex        183492346\n",
      "age        183492130\n",
      "value      733968520\n",
      "dtype: int64\n",
      "gss_out    category\n",
      "gss_in     category\n",
      "year          int16\n",
      "sex        category\n",
      "age            int8\n",
      "value       float32\n",
      "dtype: object\n"
     ]
    }
   ],
   "source": [
    "print(df.memory_usage(deep=True))\n",
    "print(df.dtypes)"
   ]
  },
  {
   "cell_type": "code",
   "execution_count": 16,
   "metadata": {},
   "outputs": [
    {
     "data": {
      "text/html": [
       "<div>\n",
       "<style scoped>\n",
       "    .dataframe tbody tr th:only-of-type {\n",
       "        vertical-align: middle;\n",
       "    }\n",
       "\n",
       "    .dataframe tbody tr th {\n",
       "        vertical-align: top;\n",
       "    }\n",
       "\n",
       "    .dataframe thead th {\n",
       "        text-align: right;\n",
       "    }\n",
       "</style>\n",
       "<table border=\"1\" class=\"dataframe\">\n",
       "  <thead>\n",
       "    <tr style=\"text-align: right;\">\n",
       "      <th></th>\n",
       "      <th>gss_out</th>\n",
       "      <th>gss_in</th>\n",
       "      <th>year</th>\n",
       "      <th>sex</th>\n",
       "      <th>age</th>\n",
       "      <th>value</th>\n",
       "    </tr>\n",
       "  </thead>\n",
       "  <tbody>\n",
       "    <tr>\n",
       "      <th>0</th>\n",
       "      <td>E06000003</td>\n",
       "      <td>E06000001</td>\n",
       "      <td>2002</td>\n",
       "      <td>female</td>\n",
       "      <td>0</td>\n",
       "      <td>2.3626</td>\n",
       "    </tr>\n",
       "    <tr>\n",
       "      <th>1</th>\n",
       "      <td>E06000004</td>\n",
       "      <td>E06000001</td>\n",
       "      <td>2002</td>\n",
       "      <td>female</td>\n",
       "      <td>0</td>\n",
       "      <td>1.1813</td>\n",
       "    </tr>\n",
       "    <tr>\n",
       "      <th>2</th>\n",
       "      <td>E06000005</td>\n",
       "      <td>E06000001</td>\n",
       "      <td>2002</td>\n",
       "      <td>female</td>\n",
       "      <td>0</td>\n",
       "      <td>1.0617</td>\n",
       "    </tr>\n",
       "    <tr>\n",
       "      <th>3</th>\n",
       "      <td>E06000009</td>\n",
       "      <td>E06000001</td>\n",
       "      <td>2002</td>\n",
       "      <td>female</td>\n",
       "      <td>0</td>\n",
       "      <td>0.1647</td>\n",
       "    </tr>\n",
       "    <tr>\n",
       "      <th>4</th>\n",
       "      <td>E06000010</td>\n",
       "      <td>E06000001</td>\n",
       "      <td>2002</td>\n",
       "      <td>female</td>\n",
       "      <td>0</td>\n",
       "      <td>0.1887</td>\n",
       "    </tr>\n",
       "    <tr>\n",
       "      <th>...</th>\n",
       "      <td>...</td>\n",
       "      <td>...</td>\n",
       "      <td>...</td>\n",
       "      <td>...</td>\n",
       "      <td>...</td>\n",
       "      <td>...</td>\n",
       "    </tr>\n",
       "    <tr>\n",
       "      <th>183492125</th>\n",
       "      <td>W06000024</td>\n",
       "      <td>W06000023</td>\n",
       "      <td>2022</td>\n",
       "      <td>male</td>\n",
       "      <td>86</td>\n",
       "      <td>0.0000</td>\n",
       "    </tr>\n",
       "    <tr>\n",
       "      <th>183492126</th>\n",
       "      <td>W06000024</td>\n",
       "      <td>W06000023</td>\n",
       "      <td>2022</td>\n",
       "      <td>male</td>\n",
       "      <td>87</td>\n",
       "      <td>0.0000</td>\n",
       "    </tr>\n",
       "    <tr>\n",
       "      <th>183492127</th>\n",
       "      <td>W06000024</td>\n",
       "      <td>W06000023</td>\n",
       "      <td>2022</td>\n",
       "      <td>male</td>\n",
       "      <td>88</td>\n",
       "      <td>0.0000</td>\n",
       "    </tr>\n",
       "    <tr>\n",
       "      <th>183492128</th>\n",
       "      <td>W06000024</td>\n",
       "      <td>W06000023</td>\n",
       "      <td>2022</td>\n",
       "      <td>male</td>\n",
       "      <td>89</td>\n",
       "      <td>0.0000</td>\n",
       "    </tr>\n",
       "    <tr>\n",
       "      <th>183492129</th>\n",
       "      <td>W06000024</td>\n",
       "      <td>W06000023</td>\n",
       "      <td>2022</td>\n",
       "      <td>male</td>\n",
       "      <td>90</td>\n",
       "      <td>0.0000</td>\n",
       "    </tr>\n",
       "  </tbody>\n",
       "</table>\n",
       "<p>183492130 rows × 6 columns</p>\n",
       "</div>"
      ],
      "text/plain": [
       "             gss_out     gss_in  year     sex  age   value\n",
       "0          E06000003  E06000001  2002  female    0  2.3626\n",
       "1          E06000004  E06000001  2002  female    0  1.1813\n",
       "2          E06000005  E06000001  2002  female    0  1.0617\n",
       "3          E06000009  E06000001  2002  female    0  0.1647\n",
       "4          E06000010  E06000001  2002  female    0  0.1887\n",
       "...              ...        ...   ...     ...  ...     ...\n",
       "183492125  W06000024  W06000023  2022    male   86  0.0000\n",
       "183492126  W06000024  W06000023  2022    male   87  0.0000\n",
       "183492127  W06000024  W06000023  2022    male   88  0.0000\n",
       "183492128  W06000024  W06000023  2022    male   89  0.0000\n",
       "183492129  W06000024  W06000023  2022    male   90  0.0000\n",
       "\n",
       "[183492130 rows x 6 columns]"
      ]
     },
     "execution_count": 16,
     "metadata": {},
     "output_type": "execute_result"
    }
   ],
   "source": [
    "df"
   ]
  },
  {
   "cell_type": "code",
   "execution_count": 15,
   "metadata": {},
   "outputs": [],
   "source": [
    "#save as csv\n",
    "df.to_csv('/Users/user1/Documents/get_rate_backseries/input_data/2021/origin_destination_2002_2022_(2023_geog)_reduced_mem.csv', index=False)"
   ]
  }
 ],
 "metadata": {
  "kernelspec": {
   "display_name": "env",
   "language": "python",
   "name": "python3"
  },
  "language_info": {
   "codemirror_mode": {
    "name": "ipython",
    "version": 3
   },
   "file_extension": ".py",
   "mimetype": "text/x-python",
   "name": "python",
   "nbconvert_exporter": "python",
   "pygments_lexer": "ipython3",
   "version": "3.12.8"
  }
 },
 "nbformat": 4,
 "nbformat_minor": 2
}
